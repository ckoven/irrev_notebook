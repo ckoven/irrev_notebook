{
 "cells": [
  {
   "cell_type": "code",
   "execution_count": 1,
   "metadata": {},
   "outputs": [
    {
     "name": "stdout",
     "output_type": "stream",
     "text": [
      "1.6.1\n"
     ]
    }
   ],
   "source": [
    "import numpy as np\n",
    "import sys\n",
    "sys.path.append('./ckplotlib/')\n",
    "import map_funcs\n",
    "from IPython.display import Image\n",
    "#\n",
    "import Nio"
   ]
  },
  {
   "cell_type": "code",
   "execution_count": 2,
   "metadata": {},
   "outputs": [
    {
     "name": "stdout",
     "output_type": "stream",
     "text": [
      "(2436, 192, 288)\n",
      "(1260, 192, 288)\n",
      "203.0\n",
      "105.0\n"
     ]
    }
   ],
   "source": [
    "## set paths\n",
    "ctrl_paths = '/gpfs/fs1/scratch/dlawren/archive/b.e20.B1850.f09_g17.pi_control.all.297/lnd/hist/'\n",
    "hico2_paths = '/glade/scratch/dlawren/archive/b.e20.B1850.f09_g17.pi_control.all.297_4xCO2/lnd/proc/'\n",
    "loweredco2_paths = '/gpfs/fs1/p/cgd/ccr/CESM2_2X-4XCO2_runs/lnd/'\n",
    "\n",
    "## load datasets\n",
    "ctrl_lastyear = Nio.open_file(ctrl_paths+'b.e20.B1850.f09_g17.pi_control.all.297.clm2.h0.0230-12.nc')\n",
    "hico2_4x_totecosysc_firstyears = Nio.open_file(hico2_paths+'b.e20.B1850.f09_g17.pi_control.all.297_4xCO2.clm2.h0.TOTECOSYSC.000101-020312.nc.nc')\n",
    "loweredco2_4x_y200_totecosysc = Nio.open_file(loweredco2_paths+'b.e20.B1850.f09_g17.4xCO2_to_PI_yr200.001.clm2.h0.TOTECOSYSC.020001-030412.nc')\n",
    "\n",
    "## get lat/lon and shape data\n",
    "lats = loweredco2_4x_y200_totecosysc.variables['lat'][:]\n",
    "lons = loweredco2_4x_y200_totecosysc.variables['lon'][:]\n",
    "IM=len(lons)\n",
    "JM=len(lats)\n",
    "\n",
    "nts_hico2_firstyears = hico2_4x_totecosysc_firstyears.variables['TOTECOSYSC'].shape[0]\n",
    "nts_loweredco2 = loweredco2_4x_y200_totecosysc.variables['TOTECOSYSC'].shape[0]\n",
    "\n",
    "nyears_hico2_firstyears = nts_hico2_firstyears/12\n",
    "nyears_loweredco2 = nts_loweredco2/12\n",
    "\n",
    "print(hico2_4x_totecosysc_firstyears.variables['TOTECOSYSC'].shape)\n",
    "print(loweredco2_4x_y200_totecosysc.variables['TOTECOSYSC'].shape)\n",
    "\n",
    "print(nyears_hico2_firstyears)\n",
    "print(nyears_loweredco2)\n"
   ]
  },
  {
   "cell_type": "code",
   "execution_count": 3,
   "metadata": {},
   "outputs": [],
   "source": [
    "nyears_highco2 = 200\n",
    "nyears_loweredco2 = int(nyears_loweredco2)\n",
    "ctrl_totecosysc = ctrl_lastyear.variables['TOTECOSYSC']\n",
    "\n",
    "timeseries_totecosysc = np.ma.masked_all([nyears_highco2+nyears_loweredco2,JM,IM])\n",
    "timeseries_totecosysc[0:nyears_highco2,:,:] = hico2_4x_totecosysc_firstyears.variables['TOTECOSYSC'][:12*nyears_highco2:12,:,:]"
   ]
  },
  {
   "cell_type": "code",
   "execution_count": 4,
   "metadata": {},
   "outputs": [
    {
     "name": "stdout",
     "output_type": "stream",
     "text": [
      "(1, 192, 288)\n",
      "(305, 192, 288)\n"
     ]
    }
   ],
   "source": [
    "timeseries_totecosysc[nyears_highco2:nyears_highco2+nyears_loweredco2,:,:] = loweredco2_4x_y200_totecosysc.variables['TOTECOSYSC'][:12*nyears_loweredco2:12,:,:]\n",
    "\n",
    "print(ctrl_totecosysc.shape)\n",
    "print(timeseries_totecosysc.shape)"
   ]
  },
  {
   "cell_type": "code",
   "execution_count": null,
   "metadata": {},
   "outputs": [],
   "source": [
    "timeseries_delta_totecosysc_zonalmean = 1.e-3 * (timeseries_totecosysc.mean(axis=2) - ctrl_totecosysc[:].mean(axis=2)[0,:])\n",
    "map_funcs.fill_nomap(timeseries_delta_totecosysc_zonalmean.transpose(), np.arange(nyears_highco2+nyears_loweredco2),lats, file='zonalmean_ecosysc_change',colormap='BlWhRe',reverse_colors=False,subtitle='Change in C stocks (kg C / m~S~2~N~)',levels=np.arange(51)-25.,xtitle='Time since initial 4xCO~B~2~N~ (yr)',ytitle='Latitude')\n",
    "map_funcs.pdf_to_png('zonalmean_ecosysc_change',density=200)\n",
    "Image('zonalmean_ecosysc_change.png')                     "
   ]
  },
  {
   "cell_type": "code",
   "execution_count": null,
   "metadata": {},
   "outputs": [],
   "source": []
  }
 ],
 "metadata": {
  "kernelspec": {
   "display_name": "Python 3",
   "language": "python",
   "name": "python3"
  },
  "language_info": {
   "codemirror_mode": {
    "name": "ipython",
    "version": 3
   },
   "file_extension": ".py",
   "mimetype": "text/x-python",
   "name": "python",
   "nbconvert_exporter": "python",
   "pygments_lexer": "ipython3",
   "version": "3.6.8"
  }
 },
 "nbformat": 4,
 "nbformat_minor": 2
}
